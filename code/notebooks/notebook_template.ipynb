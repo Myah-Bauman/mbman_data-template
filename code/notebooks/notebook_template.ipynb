{
 "cells": [
  {
   "cell_type": "markdown",
   "id": "3fc6e87e-303f-4b6f-8549-ee12e8bf2758",
   "metadata": {},
   "source": [
    "# Project name"
   ]
  },
  {
   "cell_type": "markdown",
   "id": "f4abbb54-d84c-4a9f-88c5-ccad92bb64d5",
   "metadata": {},
   "source": [
    "**Author:** Myah Bauman\n",
    "**Last Modified:** 11-17-2024 (created: 11-17-2024)\n",
    "\n",
    "**Description:** Short paragraph explaining this project"
   ]
  },
  {
   "cell_type": "markdown",
   "id": "8409cf7c-7cff-482b-bb6c-bb164427f3f3",
   "metadata": {},
   "source": [
    "<br>"
   ]
  },
  {
   "cell_type": "markdown",
   "id": "d5151a04-c2d7-4c53-a49e-11984db90eb3",
   "metadata": {},
   "source": [
    "Import libraries:"
   ]
  },
  {
   "cell_type": "code",
   "execution_count": 1,
   "id": "bb3c7d82-f0f2-4bd0-b2f4-5d4b5227751d",
   "metadata": {},
   "outputs": [],
   "source": [
    "import pandas as pd"
   ]
  },
  {
   "cell_type": "markdown",
   "id": "cc81d3cd-4cbc-4fde-9768-f51d8d9e1f82",
   "metadata": {},
   "source": [
    "<br>"
   ]
  },
  {
   "cell_type": "markdown",
   "id": "1f0a74de-c677-41b0-b11f-ae6793a8f3b9",
   "metadata": {},
   "source": [
    "Load data:"
   ]
  },
  {
   "cell_type": "code",
   "execution_count": 2,
   "id": "81a2b5a5-b5ba-4c2a-8563-3f29ab396706",
   "metadata": {},
   "outputs": [],
   "source": [
    "# code to read csv file"
   ]
  }
 ],
 "metadata": {
  "kernelspec": {
   "display_name": "Python 3 (ipykernel)",
   "language": "python",
   "name": "python3"
  },
  "language_info": {
   "codemirror_mode": {
    "name": "ipython",
    "version": 3
   },
   "file_extension": ".py",
   "mimetype": "text/x-python",
   "name": "python",
   "nbconvert_exporter": "python",
   "pygments_lexer": "ipython3",
   "version": "3.12.4"
  }
 },
 "nbformat": 4,
 "nbformat_minor": 5
}
